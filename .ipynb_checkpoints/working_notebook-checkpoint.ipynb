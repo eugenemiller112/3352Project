{
 "cells": [
  {
   "cell_type": "code",
   "execution_count": 2,
   "id": "35fea0c8",
   "metadata": {},
   "outputs": [],
   "source": [
    "import numpy as np\n",
    "import matplotlib.pyplot as plt\n",
    "import networkx as nx\n",
    "import pandas as pd"
   ]
  },
  {
   "cell_type": "code",
   "execution_count": 3,
   "id": "feab1f7f",
   "metadata": {},
   "outputs": [
    {
     "name": "stdout",
     "output_type": "stream",
     "text": [
      "      Tag   Mass  MeanWing  MeanTS Sex  StressCort     Color  MicrobialDiv\n",
      "0    Tag2  16.50    118.67   89.50   M       85.78  2.580724     36.481182\n",
      "1    Tag5  16.50    116.67   97.00   M      111.55  4.585904     28.748050\n",
      "2    Tag6  17.00    115.00   85.75   M       14.10 -1.027764     39.781455\n",
      "3    Tag8  17.00    117.83   88.50   M       28.26 -0.014607     40.485937\n",
      "4    Tag9  17.50    118.00   94.50   M       27.24  0.238278     37.571680\n",
      "5   Tag10  18.50    118.00   76.35   F       30.74  0.141872     34.109413\n",
      "6   Tag11  20.50    118.83   82.50   F       26.78 -1.737465     36.117672\n",
      "7   Tag12  18.00    119.83   90.05   M       37.78  0.596452     37.498830\n",
      "8   Tag15  16.60    116.50   92.50   M       73.55  3.240082     34.292013\n",
      "9   Tag17  16.00    121.17   83.50   M       26.82 -1.671400     36.717666\n",
      "10  Tag18  17.00    115.00   92.25   M       38.19  3.246824     40.926320\n",
      "11  Tag19  17.00    114.17   81.50   F       49.36 -3.882734     36.426678\n",
      "12  Tag23  17.50    121.67   84.85   F       15.75 -2.642732     34.079158\n",
      "13  Tag51  16.25    120.00     NaN   M       56.11  0.556976           NaN\n",
      "14  Tag52  18.25    118.17   80.60   F         NaN  0.101527     39.064318\n",
      "15  Tag53  19.75    115.00   75.50   F       47.38 -2.006672     39.238530\n",
      "16  Tag55  22.50    118.33   87.00   F       32.15 -2.305267     36.548481\n"
     ]
    }
   ],
   "source": [
    "meta = pd.read_csv('Levin 2016 Biol Lett data/LevinAttributeFile.csv')\n",
    "contact = np.genfromtxt(\"Levin 2016 Biol Lett data/LevinContactNetwork.csv\", delimiter=',')[1:,1:]\n",
    "social = np.genfromtxt(\"Levin 2016 Biol Lett data/LevinSocialNetwork.csv\", delimiter=',')[1:,1:]"
   ]
  },
  {
   "cell_type": "code",
   "execution_count": null,
   "id": "5e14abc1",
   "metadata": {},
   "outputs": [],
   "source": []
  }
 ],
 "metadata": {
  "kernelspec": {
   "display_name": "Python 3 (ipykernel)",
   "language": "python",
   "name": "python3"
  },
  "language_info": {
   "codemirror_mode": {
    "name": "ipython",
    "version": 3
   },
   "file_extension": ".py",
   "mimetype": "text/x-python",
   "name": "python",
   "nbconvert_exporter": "python",
   "pygments_lexer": "ipython3",
   "version": "3.9.7"
  }
 },
 "nbformat": 4,
 "nbformat_minor": 5
}
